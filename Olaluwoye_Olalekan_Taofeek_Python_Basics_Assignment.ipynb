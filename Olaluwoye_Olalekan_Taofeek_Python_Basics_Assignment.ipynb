{
  "cells": [
    {
      "cell_type": "markdown",
      "metadata": {},
      "source": [
        "# Ex1:\n",
        "\n",
        "Declare a destroy_elements function that accepts two lists.\n",
        "It should return a list of all elements from the first list that are NOT contained in the second list.\n",
        " Use list comprehension in your solution.\n",
        "\n",
        " EXAMPLES\n",
        "* destroy_elements([1, 2, 3], [1, 2])      => [3]\n",
        "* destroy_elements([1, 2, 3], [1, 2, 3])   => []\n",
        "* destroy_elements([1, 2, 3], [4, 5])      => [1, 2, 3]"
      ]
    },
    {
      "cell_type": "code",
      "execution_count": 1,
      "metadata": {
        "colab": {
          "base_uri": "https://localhost:8080/"
        },
        "id": "2sGz_vlgt0cU",
        "outputId": "007db353-9011-43cf-d243-6d5d8d1f1702"
      },
      "outputs": [
        {
          "name": "stdout",
          "output_type": "stream",
          "text": [
            "[3]\n",
            "[]\n",
            "[1, 2, 3]\n"
          ]
        }
      ],
      "source": [
        "def destroy_elements(r, s):\n",
        "    return [item for item in r if item not in s]\n",
        "\n",
        "#output = destroy_elements([1, 3, 4, 5, 6], [2, 3, 4])\n",
        "output1= destroy_elements([1, 2, 3], [1, 2])\n",
        "output2= destroy_elements([1, 2, 3], [1, 2, 3])\n",
        "output3= destroy_elements([1, 2, 3], [4, 5])\n",
        "#print(output)\n",
        "print(output1)\n",
        "print(output2)\n",
        "print(output3)"
      ]
    },
    {
      "cell_type": "markdown",
      "metadata": {
        "id": "UZq_NOou7ke9"
      },
      "source": [
        "# Ex2 (Majority element)\n",
        "Given an array nums of size n, return the majority element.\n",
        "\n",
        "The majority element is the element that appears more than ⌊n / 2⌋ times. You may assume that the majority element always exists in the array.\n",
        "\n",
        "Input: nums = [2,2,1,1,1,2,2] <br>\n",
        "Output: 2"
      ]
    },
    {
      "cell_type": "code",
      "execution_count": 2,
      "metadata": {
        "id": "xVn5x3Jas6W6"
      },
      "outputs": [],
      "source": [
        "def majority_element(nums):\n",
        "    counts = {}\n",
        "    for number in nums:\n",
        "        counts[number] = counts.get(number, 0) + 1\n",
        "        if counts[number] > len(nums) // 2:\n",
        "            return number"
      ]
    },
    {
      "cell_type": "code",
      "execution_count": 3,
      "metadata": {
        "colab": {
          "base_uri": "https://localhost:8080/"
        },
        "id": "Xv7q6mBwwBvB",
        "outputId": "f5592b90-fae0-43ca-ef5e-cba3382b0e98"
      },
      "outputs": [
        {
          "name": "stdout",
          "output_type": "stream",
          "text": [
            "2\n"
          ]
        }
      ],
      "source": [
        "nums = [2, 2, 1, 1, 1, 2, 2]\n",
        "print(majority_element(nums))"
      ]
    },
    {
      "cell_type": "markdown",
      "metadata": {
        "id": "puVxPeZP9IGO"
      },
      "source": [
        "# Ex3:\n",
        "\n",
        "Given an integer array nums, return true if any value appears at least twice in the array, and return false if every element is distinct.\n",
        "\n",
        "Input: nums = [1,2,3,1] <br>\n",
        "Output: true"
      ]
    },
    {
      "cell_type": "code",
      "execution_count": 4,
      "metadata": {
        "colab": {
          "base_uri": "https://localhost:8080/"
        },
        "id": "Ma6zH-6NuJ4d",
        "outputId": "ad4f8f52-0259-4c02-a285-53c665ec9f2d"
      },
      "outputs": [
        {
          "name": "stdout",
          "output_type": "stream",
          "text": [
            "True\n"
          ]
        }
      ],
      "source": [
        "def containsDuplicate(nums):\n",
        "    seen = set()\n",
        "    for number in nums:\n",
        "        if number in seen:\n",
        "            return True\n",
        "        seen.add(number)\n",
        "    return False\n",
        "\n",
        "print(containsDuplicate([1, 2, 3, 1]))"
      ]
    },
    {
      "cell_type": "code",
      "execution_count": 5,
      "metadata": {
        "colab": {
          "base_uri": "https://localhost:8080/"
        },
        "id": "wTX937p_zDJJ",
        "outputId": "68da8576-a68c-4d5d-b527-ef87d92aba91"
      },
      "outputs": [
        {
          "name": "stdout",
          "output_type": "stream",
          "text": [
            "False\n"
          ]
        }
      ],
      "source": [
        "print(containsDuplicate([4, 2, 3, 1]))"
      ]
    },
    {
      "cell_type": "code",
      "execution_count": 5,
      "metadata": {
        "id": "ZtLgaBXbZt07"
      },
      "outputs": [],
      "source": []
    },
    {
      "cell_type": "code",
      "execution_count": 6,
      "metadata": {
        "colab": {
          "base_uri": "https://localhost:8080/"
        },
        "id": "VPD1mbkpyXmC",
        "outputId": "e9fd098b-3040-485c-d1f5-5ef26821a54b"
      },
      "outputs": [
        {
          "name": "stdout",
          "output_type": "stream",
          "text": [
            "True\n"
          ]
        }
      ],
      "source": [
        "def containsDuplicate(nums):\n",
        "    return len(nums) != len(set(nums))\n",
        "print(containsDuplicate([1, 2, 3, 1]))"
      ]
    },
    {
      "cell_type": "code",
      "execution_count": 7,
      "metadata": {
        "colab": {
          "base_uri": "https://localhost:8080/"
        },
        "id": "5zZaEDEUyk3Y",
        "outputId": "7f9af516-cf06-4f26-9d8c-164ecf26dd30"
      },
      "outputs": [
        {
          "name": "stdout",
          "output_type": "stream",
          "text": [
            "False\n"
          ]
        }
      ],
      "source": [
        "print(containsDuplicate([4, 2, 3, 1]))"
      ]
    },
    {
      "cell_type": "markdown",
      "metadata": {
        "id": "rVd-qLroC36V"
      },
      "source": [
        "# Ex4:\n",
        "Write a factors function that accepts a positive whole number\n",
        "It should return a list of all of the number's factors in ascending order\n",
        " HINT: Could the range function be helpful here? Or maybe a while loop?\n",
        "EXAMPLES\n",
        "\n",
        "* factors(1)  => [1]\n",
        "* factors(2)  => [1, 2]\n",
        "* factors(10) => [1, 2, 5, 10]\n",
        "* factors(64) => [1, 2, 4, 8, 16, 32, 64]\n"
      ]
    },
    {
      "cell_type": "code",
      "execution_count": 8,
      "metadata": {
        "id": "D0yaEPVHuczY"
      },
      "outputs": [],
      "source": [
        "def factors(n):\n",
        "    output = []\n",
        "    i = 1\n",
        "    while i <= n:\n",
        "        if n % i == 0:\n",
        "            output.append(i)\n",
        "        i += 1\n",
        "    return output"
      ]
    },
    {
      "cell_type": "code",
      "execution_count": 9,
      "metadata": {
        "colab": {
          "base_uri": "https://localhost:8080/"
        },
        "id": "A0-JApTr0v_R",
        "outputId": "039698f2-15fc-4856-f8b4-f33ae24c05ea"
      },
      "outputs": [
        {
          "name": "stdout",
          "output_type": "stream",
          "text": [
            "[1]\n",
            "[1, 2]\n",
            "[1, 2, 5, 10]\n",
            "[1, 2, 4, 8, 16, 32, 64]\n"
          ]
        }
      ],
      "source": [
        "print(factors(1))\n",
        "print(factors(2))\n",
        "print(factors(10))\n",
        "print(factors(64))"
      ]
    },
    {
      "cell_type": "markdown",
      "metadata": {
        "id": "h4ErNY7uG5xR"
      },
      "source": [
        "#Ex5:\n",
        "Write a Python function that takes a positive integer as input and returns the sum of the squares of all the positive integers up to that number."
      ]
    },
    {
      "cell_type": "code",
      "execution_count": 10,
      "metadata": {
        "id": "ocvQN8hUubSr"
      },
      "outputs": [],
      "source": [
        "def sum_squares(integer):\n",
        "    return sum(i**2 for i in range(1, integer + 1))"
      ]
    },
    {
      "cell_type": "code",
      "execution_count": 11,
      "metadata": {
        "colab": {
          "base_uri": "https://localhost:8080/"
        },
        "id": "CUArHt4r3Fdl",
        "outputId": "b4cdd6cd-f290-4e48-ed9d-42e1835ca945"
      },
      "outputs": [
        {
          "name": "stdout",
          "output_type": "stream",
          "text": [
            "14\n",
            "91\n"
          ]
        }
      ],
      "source": [
        "print(sum_squares(3))\n",
        "print(sum_squares(6))"
      ]
    },
    {
      "cell_type": "markdown",
      "metadata": {
        "id": "88GfmnrlHVqu"
      },
      "source": [
        "#Ex6:\n",
        "Create a list of tuples, where each tuple represents a person with a name and age. Sort the list based on the age of the individuals."
      ]
    },
    {
      "cell_type": "code",
      "execution_count": 12,
      "metadata": {
        "colab": {
          "base_uri": "https://localhost:8080/"
        },
        "id": "CHmcYjf4uu8N",
        "outputId": "f6d9bde5-9d32-484a-868d-af0ae5a3d575"
      },
      "outputs": [
        {
          "name": "stdout",
          "output_type": "stream",
          "text": [
            "[('Olalekan', 26), ('Aderonke', 28), ('Christ', 28), ('Kapsa', 40)]\n"
          ]
        }
      ],
      "source": [
        "persons = [(\"Olalekan\", 26), (\"Aderonke\", 28), (\"Kapsa\", 40), (\"Christ\", 28)]\n",
        "\n",
        "individual_age = sorted(persons, key=lambda person: person[1])\n",
        "\n",
        "print(individual_age)"
      ]
    },
    {
      "cell_type": "markdown",
      "metadata": {
        "id": "-2cOhkMwHIg4"
      },
      "source": [
        "#Ex7:\n",
        "Write a function that takes a list of words and a minimum length, and returns a new list containing only the words that are longer than the specified length."
      ]
    },
    {
      "cell_type": "code",
      "execution_count": 13,
      "metadata": {
        "id": "JObqLzcWvJds"
      },
      "outputs": [],
      "source": [
        "def long_words(words, minimum_length):\n",
        "    return [word for word in words if len(word) > minimum_length]"
      ]
    },
    {
      "cell_type": "code",
      "execution_count": 14,
      "metadata": {
        "colab": {
          "base_uri": "https://localhost:8080/"
        },
        "id": "6ownLXAG9T28",
        "outputId": "c407da52-7446-4985-e370-be9f483442b9"
      },
      "outputs": [
        {
          "name": "stdout",
          "output_type": "stream",
          "text": [
            "['advertisement', 'elephant', 'banana', 'carbohydrate']\n"
          ]
        }
      ],
      "source": [
        "words_list = [\"advertisement\", \"goat\", \"elephant\", \"cock\", \"banana\", \"carbohydrate\"]\n",
        "output = long_words(words_list, 5)\n",
        "print(output)"
      ]
    },
    {
      "cell_type": "markdown",
      "metadata": {
        "id": "0ZS6BKpEDu9x"
      },
      "source": [
        "# Ex8:\n",
        "Declare a delete_all function that accepts a list and a target\n",
        "Remove all occurrences of the target  from the list and return it\n",
        "\n",
        "EXAMPLES\n",
        "* delete_all([1, 3, 5], 3)  => [1, 5]\n",
        "* delete_all([5, 3, 5], 5)  => [3]\n",
        "* delete_all([4, 4, 4], 4)  => []\n",
        "* delete_all([4, 4, 4], 6)  => [4, 4, 4]"
      ]
    },
    {
      "cell_type": "code",
      "execution_count": 15,
      "metadata": {
        "colab": {
          "base_uri": "https://localhost:8080/"
        },
        "id": "iKKREE4XvyWL",
        "outputId": "6716d248-b9fa-4fec-b579-794839b39208"
      },
      "outputs": [
        {
          "name": "stdout",
          "output_type": "stream",
          "text": [
            "[1, 5]\n",
            "[3]\n",
            "[]\n",
            "[4, 4, 4]\n"
          ]
        }
      ],
      "source": [
        "def delete_all(list, target):\n",
        "    return [item for item in list if item != target]\n",
        "\n",
        "#output = delete_all([4, 2, 3, 4, 2, 5], 4)\n",
        "output1= delete_all([1, 3, 5], 3)\n",
        "output2= delete_all([5, 3, 5], 5)\n",
        "output3= delete_all([4, 4, 4], 4)\n",
        "output4= delete_all([4, 4, 4], 6)\n",
        "print(output1)\n",
        "print(output2)\n",
        "print(output3)\n",
        "print(output4)\n"
      ]
    },
    {
      "cell_type": "markdown",
      "metadata": {
        "id": "R4dKFHA6D4-m"
      },
      "source": [
        "# Ex9:\n",
        "\n",
        "Define an encrypt_message function that accepts a string.\n",
        " The input string will consist of only alphabetic characters.\n",
        " The function should return a string where all characters have been moved\n",
        " \"up\" two spots in the alphabet. For example, \"a\" will become \"c\".\n",
        "\n",
        " EXAMPLES\n",
        "* encrypt_message(\"abc\") =&gt; \"cde\"\n",
        "* encrypt_message(\"xyz\") =&gt; \"zab\"\n",
        "* encrypt_message(\"\")    =&gt; \"\"\n",
        "\n",
        "* bonus:  can you write a function to decrypt the encrypted message :)"
      ]
    },
    {
      "cell_type": "code",
      "execution_count": 16,
      "metadata": {
        "id": "b-Vd-7NUv2LA"
      },
      "outputs": [],
      "source": [
        "def encrypt_message(message):\n",
        "    encrypted = ''\n",
        "    for char in message:\n",
        "        if char.isalpha():\n",
        "            base = ord('A') if char.isupper() else ord('a')\n",
        "            shifted = (ord(char) - base + 2) % 26 + base\n",
        "            encrypted += chr(shifted)\n",
        "        else:\n",
        "            encrypted += char\n",
        "    return encrypted"
      ]
    },
    {
      "cell_type": "code",
      "execution_count": 17,
      "metadata": {
        "colab": {
          "base_uri": "https://localhost:8080/"
        },
        "id": "UpOq51pbCZ1p",
        "outputId": "ef6ea7c2-bd45-4517-95cf-fd4499b1d6ed"
      },
      "outputs": [
        {
          "name": "stdout",
          "output_type": "stream",
          "text": [
            "cde\n",
            "zab\n",
            "\n"
          ]
        }
      ],
      "source": [
        "print(encrypt_message(\"abc\"))\n",
        "print(encrypt_message(\"xyz\"))\n",
        "print(encrypt_message(\"\"))\n",
        "#print(encrypt_message(\"for\"))"
      ]
    },
    {
      "cell_type": "code",
      "execution_count": 18,
      "metadata": {
        "id": "E2bKLKXAFHbU"
      },
      "outputs": [],
      "source": [
        "def decrypt_message(message):\n",
        "    decrypted = ''\n",
        "    for char in message:\n",
        "        if char.isalpha():\n",
        "            base = ord('A') if char.isupper() else ord('a')\n",
        "            shifted = (ord(char) - base - 2) % 26 + base\n",
        "            decrypted += chr(shifted)\n",
        "        else:\n",
        "            decrypted += char\n",
        "    return decrypted"
      ]
    },
    {
      "cell_type": "code",
      "execution_count": 19,
      "metadata": {
        "colab": {
          "base_uri": "https://localhost:8080/"
        },
        "id": "oCGgs8-xDVmW",
        "outputId": "2eee495a-bca5-4c04-d48a-0c73a223c300"
      },
      "outputs": [
        {
          "name": "stdout",
          "output_type": "stream",
          "text": [
            "Rtqitcookpi\n",
            "Programming\n"
          ]
        }
      ],
      "source": [
        "encrypted = encrypt_message(\"Programming\")\n",
        "print(encrypted)\n",
        "\n",
        "decrypted = decrypt_message(encrypted)\n",
        "print(decrypted)"
      ]
    },
    {
      "cell_type": "code",
      "execution_count": 19,
      "metadata": {
        "id": "RgNiuVJhEO2k"
      },
      "outputs": [],
      "source": []
    },
    {
      "cell_type": "markdown",
      "metadata": {
        "id": "LDKoTj1NEFdY"
      },
      "source": [
        "#Ex10:\n",
        "\n",
        "Define a word_lengths function that accepts a string.\n",
        "It should return a list with the lengths of each word.\n",
        "\n",
        " EXAMPLES\n",
        "* word_lengths(\"Mary Poppins was a nanny\")  => [4, 7, 3, 1, 5]\n",
        "* word_lengths(\"Somebody stole my donut\")   => [8, 5, 2, 5]"
      ]
    },
    {
      "cell_type": "code",
      "execution_count": 20,
      "metadata": {
        "id": "mou8C2sav7pS"
      },
      "outputs": [],
      "source": [
        "def word_lengths(sentence):\n",
        "    words = sentence.split()\n",
        "    return [len(word) for word in words]"
      ]
    },
    {
      "cell_type": "code",
      "execution_count": 21,
      "metadata": {
        "colab": {
          "base_uri": "https://localhost:8080/"
        },
        "id": "JL3myHhmL7y1",
        "outputId": "470c05ce-e5b6-4ad8-ef79-7c05e9b0eec5"
      },
      "outputs": [
        {
          "name": "stdout",
          "output_type": "stream",
          "text": [
            "[4, 7, 3, 1, 5]\n",
            "[8, 5, 2, 5]\n"
          ]
        }
      ],
      "source": [
        "#print(word_lengths(\"I am an handsome man\"))\n",
        "#print(word_lengths(\"I love Jesus\"))\n",
        "print(word_lengths(\"Mary Poppins was a nanny\"))\n",
        "print(word_lengths(\"Somebody stole my donut\"))"
      ]
    },
    {
      "cell_type": "markdown",
      "metadata": {
        "id": "WFRV5VYbEWEd"
      },
      "source": [
        "# Ex11:\n",
        "\n",
        "Define a cleanup function that accepts a list of strings.\n",
        "The function should return the strings joined together by a space.\n",
        "There's one BIG problem -- some of the strings are empty or only consist of spaces!\n",
        "These should NOT be included in the final string\n",
        "#\n",
        "* cleanup([\"cat\", \"er\", \"pillar\"])           => \"cat er pillar\"\n",
        "* cleanup([\"cat\", \" \", \"er\", \"\", \"pillar\"])  => \"cat er pillar\"\n",
        "* cleanup([\"\", \"\", \" \"])                     => \"\"\n"
      ]
    },
    {
      "cell_type": "code",
      "execution_count": 22,
      "metadata": {
        "id": "x3E0yruswBSn"
      },
      "outputs": [],
      "source": [
        "def cleanup(list_strings):\n",
        "    cleaned = []\n",
        "    for r in list_strings:\n",
        "        if r.strip():\n",
        "            cleaned.append(r.strip())\n",
        "    return \" \".join(cleaned)"
      ]
    },
    {
      "cell_type": "code",
      "execution_count": 23,
      "metadata": {
        "colab": {
          "base_uri": "https://localhost:8080/"
        },
        "id": "43t-qjAuO6Tr",
        "outputId": "434de25d-8449-4540-be9a-98357c5deee3"
      },
      "outputs": [
        {
          "name": "stdout",
          "output_type": "stream",
          "text": [
            "cat er pillar\n",
            "cat er pillar\n",
            "\n"
          ]
        }
      ],
      "source": [
        "#print(cleanup([\"I\", \"love\", \"lois\"]))\n",
        "print(cleanup([\"cat\", \"er\", \"pillar\"]) )\n",
        "print(cleanup([\"cat\", \" \", \"er\", \"\", \"pillar\"]))\n",
        "print(cleanup([\"\", \"\", \" \"]))"
      ]
    },
    {
      "cell_type": "markdown",
      "metadata": {
        "id": "nIyrVVFDEnHE"
      },
      "source": [
        "# Ex12:\n",
        "\n",
        "Define a nested_sum function that accepts a list of lists of numbers\n",
        "The function should return the sum of the values\n",
        " The list may contain empty lists\n",
        "\n",
        " EXAMPLES\n",
        "* nested_sum([[1, 2, 3], [4, 5]])            =&gt; 15\n",
        "* nested_sum([[1, 2, 3], [], [], [4], [5]])  =&gt; 15\n",
        "* nested_sum([[]])   "
      ]
    },
    {
      "cell_type": "code",
      "execution_count": 24,
      "metadata": {
        "id": "iL1WpI0lwE9Y"
      },
      "outputs": [],
      "source": [
        "def nested_sum(lists):\n",
        "    total = 0\n",
        "    for inner_list in lists:\n",
        "        total += sum(inner_list)\n",
        "    return total"
      ]
    },
    {
      "cell_type": "code",
      "execution_count": 25,
      "metadata": {
        "colab": {
          "base_uri": "https://localhost:8080/"
        },
        "id": "5Vuq1u0TQ3G1",
        "outputId": "3d9f558b-b8d0-4ace-ae4f-3cf0299bddec"
      },
      "outputs": [
        {
          "name": "stdout",
          "output_type": "stream",
          "text": [
            "15\n",
            "15\n",
            "0\n"
          ]
        }
      ],
      "source": [
        "print(nested_sum([[1, 2, 3], [4, 5], []]))\n",
        "print(nested_sum([[1, 2, 3], [], [], [4], [5]]))\n",
        "print(nested_sum([[], [], []]))\n"
      ]
    },
    {
      "cell_type": "markdown",
      "metadata": {
        "id": "qR-UrTXyH3P6"
      },
      "source": [
        "#Ex13:\n",
        "Create a dictionary representing a person (include name, age, and city). Write a program to:\n",
        "\n",
        "* Print the person's information.\n",
        "* Update the person's age.\n",
        "* Add a new key-value pair for the person's occupation.\n",
        "* Display the updated dictionary."
      ]
    },
    {
      "cell_type": "code",
      "execution_count": 26,
      "metadata": {
        "colab": {
          "base_uri": "https://localhost:8080/"
        },
        "id": "Hlpnr_thsp-e",
        "outputId": "652d0da7-51a2-423e-b5ff-a46835cb268e"
      },
      "outputs": [
        {
          "name": "stdout",
          "output_type": "stream",
          "text": [
            "Personal information:\n",
            "Name: Olalekan\n",
            "Age: 35\n",
            "City: Mbour\n"
          ]
        }
      ],
      "source": [
        "person = {\n",
        "    \"name\": \"Olalekan\",\n",
        "    \"age\": 35,\n",
        "    \"city\": \"Mbour\"\n",
        "}\n",
        "\n",
        "print(\"Personal information:\")\n",
        "print(f\"Name: {person['name']}\")\n",
        "print(f\"Age: {person['age']}\")\n",
        "print(f\"City: {person['city']}\")\n"
      ]
    },
    {
      "cell_type": "code",
      "execution_count": 27,
      "metadata": {
        "colab": {
          "base_uri": "https://localhost:8080/"
        },
        "id": "nI8AAebVR57W",
        "outputId": "528a0811-5b5f-4c32-98a6-e15ff38c5984"
      },
      "outputs": [
        {
          "name": "stdout",
          "output_type": "stream",
          "text": [
            "\n",
            "Updated personal information:\n",
            "Name: Olalekan\n",
            "Age: 31\n",
            "City: Mbour\n",
            "Occupation: Data Analyst\n"
          ]
        }
      ],
      "source": [
        "person[\"age\"] = 31\n",
        "\n",
        "person[\"occupation\"] = \"Data Analyst\"\n",
        "\n",
        "print(\"\\nUpdated personal information:\")\n",
        "for key, value in person.items():\n",
        "    print(f\"{key.capitalize()}: {value}\")"
      ]
    },
    {
      "cell_type": "markdown",
      "metadata": {
        "id": "Vw-3fHSNFoWC"
      },
      "source": [
        "# Ex14:\n",
        "\n",
        "Many organizations have user ids which are constrained in some way. Imagine you work at an internet service provider and the user ids are all two letters followed by two numbers (e.g. aa49). Your task at such an organization might be to hold a record on the billing activity for each possible user.\n",
        "\n",
        "Write an initialization line as a single list comprehension which creates a list of all possible user ids. Assume the letters are all lower case."
      ]
    },
    {
      "cell_type": "code",
      "execution_count": 28,
      "metadata": {
        "id": "lBlaus6ZwKRr"
      },
      "outputs": [],
      "source": [
        "userIDs = [f\"{r}{s}{x:02d}\" for r in \"abcdefghijklmnopqrstuvwxyz\"\n",
        "                                  for s in \"abcdefghijklmnopqrstuvwxyz\"\n",
        "                                  for x in range(100)]"
      ]
    },
    {
      "cell_type": "code",
      "execution_count": 29,
      "metadata": {
        "colab": {
          "base_uri": "https://localhost:8080/"
        },
        "id": "cXgXokjQTKjI",
        "outputId": "04c0458b-c958-4b88-bf42-263e4719ae43"
      },
      "outputs": [
        {
          "name": "stdout",
          "output_type": "stream",
          "text": [
            "['aa00', 'aa01', 'aa02', 'aa03', 'aa04', 'aa05', 'aa06']\n"
          ]
        }
      ],
      "source": [
        "print(userIDs[:7])"
      ]
    },
    {
      "cell_type": "markdown",
      "metadata": {
        "id": "hCecXHVOFaWG"
      },
      "source": [
        "# Ex15:\n",
        "Ask the user to enter a password, then:\n",
        "\n",
        "*   check if it contains uppercase letters, lowercase letters, numbers and special characters.\n",
        "*   Give feedback to the user(\"Strong password!\" or \" The password should include a mix of uppercase letters, lowercase letters, numbers, and special characters.\" ).\n",
        "\n"
      ]
    },
    {
      "cell_type": "code",
      "execution_count": 30,
      "metadata": {
        "colab": {
          "base_uri": "https://localhost:8080/"
        },
        "id": "ik9Jg2XbGmcR",
        "outputId": "5b9b7508-9845-4fab-9403-0a7c948978a4"
      },
      "outputs": [
        {
          "name": "stdout",
          "output_type": "stream",
          "text": [
            "Strong password!\n"
          ]
        }
      ],
      "source": [
        "import string\n",
        "\n",
        "def password_strength(password):\n",
        "    uppercase = any(c.isupper() for c in password)\n",
        "    lowercase = any(c.islower() for c in password)\n",
        "    numbers = any(c.isdigit() for c in password)\n",
        "    special_character = any(c in string.punctuation for c in password)\n",
        "\n",
        "    if uppercase and lowercase and numbers and special_character:\n",
        "        return \"Strong password!\"\n",
        "    else:\n",
        "        return \"The password should include a mix of uppercase letters, lowercase letters, numbers, and special characters.\"\n",
        "\n",
        "feedback = password_strength(\"Ewaoluwa26.:\")\n",
        "print(feedback)"
      ]
    },
    {
      "cell_type": "code",
      "execution_count": 31,
      "metadata": {
        "colab": {
          "base_uri": "https://localhost:8080/"
        },
        "id": "_kKONUqQWKoL",
        "outputId": "aaa8b8d0-85c7-4332-96cc-6b1ee1ba805b"
      },
      "outputs": [
        {
          "name": "stdout",
          "output_type": "stream",
          "text": [
            "The password should include a mix of uppercase letters, lowercase letters, numbers, and special characters.\n"
          ]
        }
      ],
      "source": [
        "feedback1 = password_strength(\"olaluwoye9:\")\n",
        "print(feedback1)"
      ]
    },
    {
      "cell_type": "markdown",
      "metadata": {
        "id": "rR0les2KG-2C"
      },
      "source": [
        "# Ex16:\n",
        "\n",
        "Declare a sum_of_evens_and_odds function that accepts a tuple of numbers.\n",
        "#### It should return a tuple with two numeric values:\n",
        " - the sum of the even numbers\n",
        " - the sum of the odd numbers.\n",
        "* sum_of_evens_and_odds((1, 2, 3, 4))   => (6, 4)\n",
        "* sum_of_evens_and_odds((1, 3, 5))      => (0, 9)\n",
        "* sum_of_evens_and_odds((2, 4, 6))      => (12, 0)\n"
      ]
    },
    {
      "cell_type": "code",
      "execution_count": 32,
      "metadata": {
        "id": "i1QUrg1qHEAf"
      },
      "outputs": [],
      "source": [
        "def sum_of_evens_and_odds(numbers):\n",
        "    even_sum = 0\n",
        "    odd_sum = 0\n",
        "    for num in numbers:\n",
        "        if num % 2 == 0:\n",
        "            even_sum += num\n",
        "        else:\n",
        "            odd_sum += num\n",
        "    return (even_sum, odd_sum)"
      ]
    },
    {
      "cell_type": "code",
      "execution_count": 33,
      "metadata": {
        "colab": {
          "base_uri": "https://localhost:8080/"
        },
        "id": "GH2zU3uwWnij",
        "outputId": "fea32b1c-668e-4135-ef6a-1c9112b6b851"
      },
      "outputs": [
        {
          "name": "stdout",
          "output_type": "stream",
          "text": [
            "(6, 4)\n",
            "(0, 9)\n",
            "(12, 0)\n"
          ]
        }
      ],
      "source": [
        "print(sum_of_evens_and_odds((1, 2, 3, 4)))\n",
        "print(sum_of_evens_and_odds((1, 3, 5)))\n",
        "print(sum_of_evens_and_odds((2, 4, 6)))\n"
      ]
    },
    {
      "cell_type": "markdown",
      "metadata": {
        "id": "zN-lIAX6PBv_"
      },
      "source": [
        "# Ex17:\n",
        "\n",
        "Define a length_counts function that accepts a list of strings.\n",
        "The function should return a dictionary where the keys represent\n",
        " length and the values represent how many strings have that length.\n",
        "\n",
        " EXAMPLE:\n",
        "* sa_countries = [\"Brazil\", \"Venezuela\", \"Argentina\", \"Ecuador\", \"Bolivia\", \"Peru\"]\n",
        "* length_counts(sa_countries) =&gt; # {6: 1, 9: 2, 7: 2, 4: 1}\n",
        "* There is 1 string with 6 letters, 2 strings with 9 letters,\n",
        "* 2 strings with 7 letters, and 1 string with 4 letters."
      ]
    },
    {
      "cell_type": "code",
      "execution_count": 34,
      "metadata": {
        "colab": {
          "base_uri": "https://localhost:8080/"
        },
        "id": "XQNXxohDPI2a",
        "outputId": "efb14716-1cfe-472a-9089-432549f58197"
      },
      "outputs": [
        {
          "name": "stdout",
          "output_type": "stream",
          "text": [
            "{6: 1, 9: 2, 7: 2, 4: 1}\n",
            "{'1 string(s) with 6 letter(s)': 1, '2 string(s) with 9 letter(s)': 2, '2 string(s) with 7 letter(s)': 2, '1 string(s) with 4 letter(s)': 1}\n"
          ]
        }
      ],
      "source": [
        "def length_counts(strings):\n",
        "    counts = {}\n",
        "\n",
        "    for word in strings:\n",
        "        length = len(word)\n",
        "        if length in counts:\n",
        "            counts[length] += 1\n",
        "        else:\n",
        "            counts[length] = 1\n",
        "\n",
        "    print(counts)\n",
        "\n",
        "    result = {}\n",
        "    for length, count in counts.items():\n",
        "        result[f'{count} string(s) with {length} letter(s)'] = count\n",
        "\n",
        "    print(result)\n",
        "\n",
        "\n",
        "sa_countries = [\"Brazil\", \"Venezuela\", \"Argentina\", \"Ecuador\", \"Bolivia\", \"Peru\"]\n",
        "length_counts(sa_countries)\n"
      ]
    },
    {
      "cell_type": "markdown",
      "metadata": {
        "id": "18XGQlvusz41"
      },
      "source": [
        "# Ex18:\n",
        "\n",
        "Given two strings s and t, determine if they are isomorphic.\n",
        "\n",
        "Two strings s and t are isomorphic if the characters in s can be replaced to get t.\n",
        "\n",
        "All occurrences of a character must be replaced with another character while preserving the order of characters. No two characters may map to the same character, but a character may map to itself."
      ]
    },
    {
      "cell_type": "markdown",
      "metadata": {
        "id": "Y_nkzWLltAqh"
      },
      "source": [
        "Input: s = \"egg\", t = \"add\" <br>\n",
        "Output: true\n",
        "<br><br>\n",
        "Input: s = \"foo\", t = \"bar\" <br>\n",
        "Output: false"
      ]
    },
    {
      "cell_type": "code",
      "execution_count": 35,
      "metadata": {
        "id": "_6R7d_HHs7jX"
      },
      "outputs": [],
      "source": [
        "def is_isomorphic(s, t):\n",
        "    if len(s) != len(t):\n",
        "        return False\n",
        "\n",
        "    s_to_t = {}\n",
        "    t_to_s = {}\n",
        "\n",
        "    for char_s, char_t in zip(s, t):\n",
        "        if char_s in s_to_t:\n",
        "            if s_to_t[char_s] != char_t:\n",
        "                return False\n",
        "        else:\n",
        "            s_to_t[char_s] = char_t\n",
        "\n",
        "        if char_t in t_to_s:\n",
        "            if t_to_s[char_t] != char_s:\n",
        "                return False\n",
        "        else:\n",
        "            t_to_s[char_t] = char_s\n",
        "\n",
        "    return True\n"
      ]
    },
    {
      "cell_type": "code",
      "execution_count": 36,
      "metadata": {
        "colab": {
          "base_uri": "https://localhost:8080/"
        },
        "id": "8CHiKW0AZMAl",
        "outputId": "d86aa34c-20c4-45ce-fed9-0b1f696e7af2"
      },
      "outputs": [
        {
          "name": "stdout",
          "output_type": "stream",
          "text": [
            "True\n",
            "False\n"
          ]
        }
      ],
      "source": [
        "print(is_isomorphic(\"egg\", \"add\"))\n",
        "print(is_isomorphic(\"foo\", \"bar\"))\n",
        "#print(is_isomorphic(\"paper\", \"title\"))\n",
        "#print(is_isomorphic(\"ab\", \"aa\"))\n"
      ]
    },
    {
      "cell_type": "markdown",
      "metadata": {
        "id": "ZwDgOtitva28"
      },
      "source": [
        "# Ex19:\n",
        "\n",
        " Dot product of vectors: <br>\n",
        "\n",
        "Vectors are mathematical objects that are often used to represent the inputs to neural networks. One way to view the vectors is as list of items. Complete the following code to compute dot product of two vectors. Dot product is defined the following equation:-\n",
        "</font>\n",
        "\n",
        "$$\n",
        "x.y = <x, y> = x^Ty = \\sum_{i}^n x_iy_i\n",
        "$$\n",
        "\n",
        "<font  color=\"white\">\n",
        "Assume that only lists are passed to the function and they also contain only numeric datatype.\n",
        "\n",
        "</font>"
      ]
    },
    {
      "cell_type": "code",
      "execution_count": 37,
      "metadata": {
        "colab": {
          "base_uri": "https://localhost:8080/"
        },
        "id": "hP7lPZtWv3Ot",
        "outputId": "7e53eef0-07a0-45c8-a093-dac567f2b083"
      },
      "outputs": [
        {
          "name": "stdout",
          "output_type": "stream",
          "text": [
            "32\n",
            "-9\n"
          ]
        }
      ],
      "source": [
        "def dot_product(x, y):\n",
        "    if len(x) != len(y):\n",
        "        raise ValueError(\"The vectors must be of the same length.\")\n",
        "\n",
        "    return sum(xi * yi for xi, yi in zip(x, y))\n",
        "print(dot_product([1, 2, 3], [4, 5, 6]))\n",
        "print(dot_product([0, -1, 2], [3, 1, -4]))\n"
      ]
    },
    {
      "cell_type": "markdown",
      "metadata": {
        "id": "M8uSZ_oewecj"
      },
      "source": [
        "# Ex20:\n",
        "\n",
        "Write a function MatMul that multiplies two 2D matrices A and B and returns the result\n",
        "\n",
        "Validate you code using:\n",
        "\n",
        "```\n",
        "A = [ [1,2,3],[4,5,6] ]\n",
        "B = [ [4,5], [1,2], [0, 1] ]\n",
        "\n",
        "\n",
        "```"
      ]
    },
    {
      "cell_type": "code",
      "execution_count": 38,
      "metadata": {
        "colab": {
          "base_uri": "https://localhost:8080/"
        },
        "id": "sKKwisC5wuZq",
        "outputId": "79a13e6d-0953-4640-c314-7eb1f1aa9a4e"
      },
      "outputs": [
        {
          "name": "stdout",
          "output_type": "stream",
          "text": [
            "[[6, 12], [21, 36]]\n",
            "Thankss, It is good\n"
          ]
        }
      ],
      "source": [
        "def MatMul(A, B):\n",
        "    if len(A[0]) != len(B):\n",
        "        raise ValueError(\"Number of columns in A must equal number of rows in B.\")\n",
        "\n",
        "    output = []\n",
        "    for i in range(len(A)):\n",
        "        row = []\n",
        "        for j in range(len(B[0])):\n",
        "            val = sum(A[i][k] * B[k][j] for k in range(len(B)))\n",
        "            row.append(val)\n",
        "        output.append(row)\n",
        "    return output\n",
        "\n",
        "\n",
        "A = [ [1,2,3],[4,5,6] ]\n",
        "B = [ [4,5], [1,2], [0, 1] ]\n",
        "print(MatMul(A, B))\n",
        "assert MatMul(A, B)==[[6, 12], [21, 36]], \"Your implementation is not correct\"\n",
        "print(\"Thankss, It is good\")"
      ]
    },
    {
      "cell_type": "markdown",
      "metadata": {
        "id": "BZcW3Dk_eJoz"
      },
      "source": [
        "#Ex21:\n",
        "\n",
        "<b> Given a list l, reverse l.\n",
        "Ex= [1,2,3,4,5] ==> [5,4,3,2,1]. In this case the operation has to be done in-place. Do not allow new memory space</b>\n",
        "\n",
        "DON't USE THE PYTHON INDEXING [::-1]"
      ]
    },
    {
      "cell_type": "code",
      "execution_count": 39,
      "metadata": {
        "id": "t2nH7TUMeR9S"
      },
      "outputs": [],
      "source": [
        "def list_r(l):\n",
        "    left = 0\n",
        "    right = len(l) - 1\n",
        "\n",
        "    while left < right:\n",
        "\n",
        "        l[left], l[right] = l[right], l[left]\n",
        "        left += 1\n",
        "        right -= 1"
      ]
    },
    {
      "cell_type": "code",
      "execution_count": 40,
      "metadata": {
        "colab": {
          "base_uri": "https://localhost:8080/"
        },
        "id": "EABz7jpoOIyv",
        "outputId": "4d63fd0f-7d4f-40e4-d158-8d4aaa5b3901"
      },
      "outputs": [
        {
          "name": "stdout",
          "output_type": "stream",
          "text": [
            "[10, 8, 6, 4, 2]\n"
          ]
        }
      ],
      "source": [
        "lst = [2, 4, 6, 8, 10]\n",
        "list_r(lst)\n",
        "print(lst)"
      ]
    },
    {
      "cell_type": "code",
      "execution_count": 41,
      "metadata": {
        "colab": {
          "base_uri": "https://localhost:8080/"
        },
        "id": "rzGCN6vISX51",
        "outputId": "c6193c1a-4237-44a1-eb22-a65a37b0ec0c"
      },
      "outputs": [
        {
          "name": "stdout",
          "output_type": "stream",
          "text": [
            "[5, 4, 3, 2, 1]\n"
          ]
        }
      ],
      "source": [
        "lst1 = [1, 2, 3, 4, 5]\n",
        "list_r(lst1)\n",
        "print(lst1)"
      ]
    },
    {
      "cell_type": "markdown",
      "metadata": {
        "id": "7t8LhgVbespH"
      },
      "source": [
        "# Ex22:\n",
        "\n",
        "<b> Given a string s, check whether s is a palindrome. s is the palindrome if s is equal to its reverse.Using:\n",
        "- slicing in python\n",
        "- loop.</b>\n",
        "\n",
        "example : s='aba' is a palindrom\n",
        "s='abaa' isnot a palindrom"
      ]
    },
    {
      "cell_type": "code",
      "execution_count": 42,
      "metadata": {
        "colab": {
          "base_uri": "https://localhost:8080/"
        },
        "id": "tLIuX7ASesVx",
        "outputId": "161cd200-2bf2-48a0-902b-9afe8d95b402"
      },
      "outputs": [
        {
          "name": "stdout",
          "output_type": "stream",
          "text": [
            "'madam' is a palindrome? → True\n",
            "'hello' is a palindrome? → False\n"
          ]
        }
      ],
      "source": [
        "def is_palindrome_slicing(s):\n",
        "    return s == s[::-1]\n",
        "\n",
        "s_1 = \"madam\"\n",
        "s_2 = \"hello\"\n",
        "\n",
        "print(f\"'{s_1}' is a palindrome? →\", is_palindrome_slicing(s_1))\n",
        "print(f\"'{s_2}' is a palindrome? →\", is_palindrome_slicing(s_2))\n"
      ]
    },
    {
      "cell_type": "code",
      "execution_count": 43,
      "metadata": {
        "colab": {
          "base_uri": "https://localhost:8080/"
        },
        "id": "9jA2UR5uyKAq",
        "outputId": "53d8eb8f-5c35-473d-9a7b-859b47f4160b"
      },
      "outputs": [
        {
          "name": "stdout",
          "output_type": "stream",
          "text": [
            "'madam' is a palindrome? → True\n",
            "'hello' is a palindrome? → False\n"
          ]
        }
      ],
      "source": [
        "def is_palindrome_loop(s):\n",
        "    left = 0\n",
        "    right = len(s) - 1\n",
        "    while left < right:\n",
        "        if s[left] != s[right]:\n",
        "            return False\n",
        "        left += 1\n",
        "        right -= 1\n",
        "    return True\n",
        "\n",
        "s_1 = \"madam\"\n",
        "s_2 = \"hello\"\n",
        "\n",
        "print(f\"'{s_1}' is a palindrome? →\", is_palindrome_loop(s_1))\n",
        "print(f\"'{s_2}' is a palindrome? →\", is_palindrome_loop(s_2))\n"
      ]
    },
    {
      "cell_type": "markdown",
      "metadata": {
        "id": "u5vdU3SBiUqd"
      },
      "source": [
        "# Ex23:\n",
        "\n",
        "Find the factorial of a given number:\n",
        "\n",
        "Write a program to use the loop to find the factorial of a given number.\n",
        "\n",
        "The factorial (symbol: !) means to multiply all whole numbers from the chosen number down to 1.\n",
        "\n",
        "For example: calculate the factorial of 5"
      ]
    },
    {
      "cell_type": "code",
      "execution_count": 44,
      "metadata": {
        "colab": {
          "base_uri": "https://localhost:8080/"
        },
        "id": "TPzmWdq7ieiu",
        "outputId": "d2c2e88e-bfe0-4f73-a7da-a52204847dd9"
      },
      "outputs": [
        {
          "name": "stdout",
          "output_type": "stream",
          "text": [
            "The factorial of 7 is: 5040\n"
          ]
        }
      ],
      "source": [
        "def factorial(number):\n",
        "    if number < 0:\n",
        "        return \"Factorial is not defined for negative numbers.\"\n",
        "\n",
        "    result = 1\n",
        "    for i in range(1, number + 1):\n",
        "        result *= i\n",
        "    return result\n",
        "number = 7\n",
        "print(f\"The factorial of {number} is: {factorial(number)}\")\n"
      ]
    },
    {
      "cell_type": "code",
      "execution_count": 45,
      "metadata": {
        "colab": {
          "base_uri": "https://localhost:8080/"
        },
        "id": "XLjvXFHDQdaX",
        "outputId": "a4d60e60-19a9-44ec-b9f1-45d6b89477e4"
      },
      "outputs": [
        {
          "name": "stdout",
          "output_type": "stream",
          "text": [
            "The factorial of 5 is: 120\n"
          ]
        }
      ],
      "source": [
        "number = 5\n",
        "print(f\"The factorial of {number} is: {factorial(number)}\")"
      ]
    },
    {
      "cell_type": "markdown",
      "metadata": {
        "id": "G6evsWkHimeY"
      },
      "source": [
        "# Ex24:\n",
        "\n",
        "Display Fibonacci series up to 10 terms:\n",
        "\n",
        "The Fibonacci Sequence is a series of numbers. The next number is found by adding up the two numbers before it. The first two numbers are 0 and 1.\n",
        "\n",
        "For example, 0, 1, 1, 2, 3, 5, 8, 13, 21. The next number in this series above is 13+21 = 34."
      ]
    },
    {
      "cell_type": "code",
      "execution_count": 46,
      "metadata": {
        "colab": {
          "base_uri": "https://localhost:8080/"
        },
        "id": "aZC6D0VOiq4F",
        "outputId": "a3b355a2-e1b1-4126-f27f-250b46caa7db"
      },
      "outputs": [
        {
          "name": "stdout",
          "output_type": "stream",
          "text": [
            "0 1 1 2 3 5 8 13 21 34 "
          ]
        }
      ],
      "source": [
        "def fibonacci(number):\n",
        "    r, s = 0, 1\n",
        "\n",
        "    print(r, end=\" \")\n",
        "    if number > 1:\n",
        "        print(s, end=\" \")\n",
        "\n",
        "    for _ in range(2, number):\n",
        "        r, s = s, r + s\n",
        "        print(s, end=\" \")\n",
        "\n",
        "fibonacci(10)\n"
      ]
    },
    {
      "cell_type": "code",
      "execution_count": 47,
      "metadata": {
        "colab": {
          "base_uri": "https://localhost:8080/"
        },
        "id": "JcnJF7tKRLRS",
        "outputId": "76d2fa4e-332f-460f-aac6-fe52d4823254"
      },
      "outputs": [
        {
          "name": "stdout",
          "output_type": "stream",
          "text": [
            "Fibonacci series up to 10 terms: [0, 1, 1, 2, 3, 5, 8, 13, 21, 34]\n"
          ]
        }
      ],
      "source": [
        "def fibonacci(number):\n",
        "    fib = [0, 1]\n",
        "\n",
        "    for i in range(2, number):\n",
        "        next_term = fib[-1] + fib[-2]\n",
        "        fib.append(next_term)\n",
        "\n",
        "    return fib\n",
        "\n",
        "print(f\"Fibonacci series up to {10} terms: {fibonacci(10)}\")\n"
      ]
    },
    {
      "cell_type": "markdown",
      "metadata": {
        "id": "5XdX6KBqi2S1"
      },
      "source": [
        "# Ex25:\n",
        "\n",
        "- Write a program to display all prime numbers within a range.\n",
        "\n",
        "- range\n",
        "start = 19\n",
        "end = 70"
      ]
    },
    {
      "cell_type": "code",
      "execution_count": 48,
      "metadata": {
        "colab": {
          "base_uri": "https://localhost:8080/"
        },
        "id": "wmxegZhOi9qb",
        "outputId": "de2bacf2-4cdf-42ba-e87b-b7ae39a5fa26"
      },
      "outputs": [
        {
          "name": "stdout",
          "output_type": "stream",
          "text": [
            "All prime numbers between 19 and 70: [19, 23, 29, 31, 37, 41, 43, 47, 53, 59, 61, 67]\n"
          ]
        }
      ],
      "source": [
        "def is_prime(num):\n",
        "    if num < 2:\n",
        "        return False\n",
        "    for i in range(2, int(num ** 0.5) + 1):\n",
        "        if num % i == 0:\n",
        "            return False\n",
        "    return True\n",
        "\n",
        "def display_primes(start=19, end=70):\n",
        "    primes = [num for num in range(19, 70 + 1) if is_prime(num)]\n",
        "    print(f\"All prime numbers between {19} and {70}: {primes}\")\n",
        "\n",
        "display_primes(19, 70)\n"
      ]
    },
    {
      "cell_type": "markdown",
      "metadata": {
        "id": "ndYKDm2JHr39"
      },
      "source": [
        "#Ex26:\n",
        "Write a program to copy the contents of one text file (input.txt) to another file (output.txt). Handle the case where file1 does not exist."
      ]
    },
    {
      "cell_type": "code",
      "execution_count": 49,
      "metadata": {
        "colab": {
          "base_uri": "https://localhost:8080/"
        },
        "id": "uE0h7JNcvsb_",
        "outputId": "fecb002c-8c34-405c-961c-914a289d51fd"
      },
      "outputs": [
        {
          "name": "stdout",
          "output_type": "stream",
          "text": [
            "Error: The file input.txt does not exist.\n"
          ]
        }
      ],
      "source": [
        "def file(input, output):\n",
        "    try:\n",
        "        with open(input, 'r') as infile:\n",
        "            contents = infile.read()\n",
        "\n",
        "        with open(output, 'w') as outfile:\n",
        "            outfile.write(contents)\n",
        "\n",
        "        print(f\"Contents of {input} have been copied to {output}\")\n",
        "\n",
        "    except FileNotFoundError:\n",
        "        print(f\"Error: The file {input} does not exist.\")\n",
        "\n",
        "    except Exception as e:\n",
        "        print(f\"There is an error: {e}\")\n",
        "\n",
        "input = \"input.txt\"\n",
        "output = \"output.txt\"\n",
        "\n",
        "file(input, output)\n"
      ]
    },
    {
      "cell_type": "code",
      "execution_count": 49,
      "metadata": {
        "id": "Cj2pdA21Wseq"
      },
      "outputs": [],
      "source": []
    }
  ],
  "metadata": {
    "colab": {
      "provenance": []
    },
    "kernelspec": {
      "display_name": "Python 3",
      "name": "python3"
    },
    "language_info": {
      "name": "python"
    }
  },
  "nbformat": 4,
  "nbformat_minor": 0
}
